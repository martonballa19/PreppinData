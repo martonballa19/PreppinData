{
 "cells": [
  {
   "cell_type": "code",
   "execution_count": 192,
   "metadata": {},
   "outputs": [],
   "source": [
    "import pandas as pd\n",
    "import numpy as np\n",
    "import warnings\n",
    "warnings.filterwarnings(\"ignore\")\n",
    "\n",
    "menu = pd.read_excel('Menu and Orders.xlsx', sheet_name='MENU')\n",
    "orders = pd.read_excel('Menu and Orders.xlsx', sheet_name='Order')\n",
    "\n",
    "#Modify the structure of the Menu table so we can have one column for \n",
    "#the Type(pizza, pasta, house plate), the name of the plate, ID, and Price\n",
    "\n",
    "pizzas = menu[['Pizza', 'Pizza Price ', 'Pizza ID']]\n",
    "pastas = menu[['Pasta', 'Pasta Price', 'Pasta ID']]\n",
    "plates = menu[['House Plates', 'House Plates Prices', 'House Plates ID']]\n",
    "\n",
    "pizzas['Type'] = 'Pizza'\n",
    "pastas['Type'] = 'Pasta'\n",
    "plates['Type'] = 'House Plate'\n",
    "\n",
    "pizzas = pizzas.rename(columns= {'Pizza':'Name', 'Pizza Price ':'Price', 'Pizza ID':'ID'})\n",
    "plates = plates.rename(columns= {'House Plates':'Name', 'House Plates Prices':'Price', 'House Plates ID':'ID'})\n",
    "pastas = pastas.rename(columns= {'Pasta':'Name', 'Pasta Price':'Price', 'Pasta ID':'ID'})\n",
    "\n",
    "menu = pd.concat([pizzas,pastas,plates]).dropna()\n",
    "menu['ID'] = menu['ID'].astype(int)\n",
    "\n",
    "#Modify the structure of the Orders table to have each item ID in a different row\n",
    "\n",
    "orders['Order'] = orders['Order'].astype(str)\n",
    "rest_of_ids = orders['Order'].str.split('-', expand=True)\n",
    "first_id = orders['Order'].apply(lambda x: x.split('-')[0])\n",
    "\n",
    "orders['Order1'] = first_id\n",
    "orders['Order2'] = rest_of_ids[1]\n",
    "orders['Order3'] = rest_of_ids[2]\n",
    "orders['Order4'] = rest_of_ids[3]\n",
    "\n",
    "orders.drop('Order', axis=1, inplace=True)\n",
    "\n",
    "orders_melted = pd.melt(orders, id_vars=['Customer Name', 'Order Date'], value_vars=['Order1', 'Order2', 'Order3', 'Order4'])\n",
    "\n",
    "orders = orders_melted.drop('variable', axis=1).rename(columns={'value':'ID'}).dropna()\n",
    "\n",
    "orders['ID'] = orders['ID'].astype(int)\n",
    "\n",
    "#Join both tables\n",
    "\n",
    "df = menu.merge(orders, on='ID')\n",
    "\n",
    "# On Monday's we offer a 50% discount on all items. Recalculate the prices to reflect this\n",
    "\n",
    "df['Weekday'] = df['Order Date'].dt.dayofweek\n",
    "\n",
    "weekday_dict = {0:'Monday',\n",
    "                1:'Tuesday',\n",
    "                2:'Wednesday',\n",
    "                3:'Thursday',\n",
    "                4:'Friday',\n",
    "                5:'Saturday',\n",
    "                6:'Sunday'\n",
    "                }\n",
    "\n",
    "df['Day of Week'] = df['Weekday'].map(weekday_dict)\n",
    "\n",
    "df.drop('Weekday', axis=1, inplace=True)\n",
    "\n",
    "df['Price'] = np.where(df['Day of Week'] == 'Monday', df['Price']*.5, df['Price'])\n",
    "\n",
    "# For Output 1, we want to calculate the total money for each day of the week\n",
    "\n",
    "output1 = df.groupby('Day of Week', as_index=False)['Price'].agg('sum')\n",
    "output1 = output1.sort_values(by='Price', ascending=False)\n",
    "\n",
    "# For Output 2, we want to reward the customer who has made the most orders for their loyalty. \n",
    "#Work out which customer has ordered the most single items.\n",
    "\n",
    "output2 = df[['Customer Name', 'ID']]\n",
    "output2 = output2.groupby('Customer Name', as_index=False).agg('count')\n",
    "output2 = output2.sort_values(by='ID', ascending=False)\n",
    "output2 = output2.head(1).rename(columns={'ID':'Count Items'})"
   ]
  },
  {
   "cell_type": "code",
   "execution_count": 193,
   "metadata": {},
   "outputs": [
    {
     "data": {
      "text/html": [
       "<div>\n",
       "<style scoped>\n",
       "    .dataframe tbody tr th:only-of-type {\n",
       "        vertical-align: middle;\n",
       "    }\n",
       "\n",
       "    .dataframe tbody tr th {\n",
       "        vertical-align: top;\n",
       "    }\n",
       "\n",
       "    .dataframe thead th {\n",
       "        text-align: right;\n",
       "    }\n",
       "</style>\n",
       "<table border=\"1\" class=\"dataframe\">\n",
       "  <thead>\n",
       "    <tr style=\"text-align: right;\">\n",
       "      <th></th>\n",
       "      <th>Day of Week</th>\n",
       "      <th>Price</th>\n",
       "    </tr>\n",
       "  </thead>\n",
       "  <tbody>\n",
       "    <tr>\n",
       "      <th>6</th>\n",
       "      <td>Wednesday</td>\n",
       "      <td>213.0</td>\n",
       "    </tr>\n",
       "    <tr>\n",
       "      <th>5</th>\n",
       "      <td>Tuesday</td>\n",
       "      <td>154.0</td>\n",
       "    </tr>\n",
       "    <tr>\n",
       "      <th>2</th>\n",
       "      <td>Saturday</td>\n",
       "      <td>137.0</td>\n",
       "    </tr>\n",
       "    <tr>\n",
       "      <th>0</th>\n",
       "      <td>Friday</td>\n",
       "      <td>98.0</td>\n",
       "    </tr>\n",
       "    <tr>\n",
       "      <th>3</th>\n",
       "      <td>Sunday</td>\n",
       "      <td>97.0</td>\n",
       "    </tr>\n",
       "    <tr>\n",
       "      <th>4</th>\n",
       "      <td>Thursday</td>\n",
       "      <td>63.0</td>\n",
       "    </tr>\n",
       "    <tr>\n",
       "      <th>1</th>\n",
       "      <td>Monday</td>\n",
       "      <td>45.0</td>\n",
       "    </tr>\n",
       "  </tbody>\n",
       "</table>\n",
       "</div>"
      ],
      "text/plain": [
       "  Day of Week  Price\n",
       "6   Wednesday  213.0\n",
       "5     Tuesday  154.0\n",
       "2    Saturday  137.0\n",
       "0      Friday   98.0\n",
       "3      Sunday   97.0\n",
       "4    Thursday   63.0\n",
       "1      Monday   45.0"
      ]
     },
     "execution_count": 193,
     "metadata": {},
     "output_type": "execute_result"
    }
   ],
   "source": [
    "output1"
   ]
  },
  {
   "cell_type": "code",
   "execution_count": 194,
   "metadata": {},
   "outputs": [
    {
     "data": {
      "text/html": [
       "<div>\n",
       "<style scoped>\n",
       "    .dataframe tbody tr th:only-of-type {\n",
       "        vertical-align: middle;\n",
       "    }\n",
       "\n",
       "    .dataframe tbody tr th {\n",
       "        vertical-align: top;\n",
       "    }\n",
       "\n",
       "    .dataframe thead th {\n",
       "        text-align: right;\n",
       "    }\n",
       "</style>\n",
       "<table border=\"1\" class=\"dataframe\">\n",
       "  <thead>\n",
       "    <tr style=\"text-align: right;\">\n",
       "      <th></th>\n",
       "      <th>Customer Name</th>\n",
       "      <th>Count Items</th>\n",
       "    </tr>\n",
       "  </thead>\n",
       "  <tbody>\n",
       "    <tr>\n",
       "      <th>28</th>\n",
       "      <td>Mordecai Lehrle</td>\n",
       "      <td>4</td>\n",
       "    </tr>\n",
       "  </tbody>\n",
       "</table>\n",
       "</div>"
      ],
      "text/plain": [
       "      Customer Name  Count Items\n",
       "28  Mordecai Lehrle            4"
      ]
     },
     "execution_count": 194,
     "metadata": {},
     "output_type": "execute_result"
    }
   ],
   "source": [
    "output2"
   ]
  },
  {
   "cell_type": "code",
   "execution_count": 137,
   "metadata": {},
   "outputs": [],
   "source": []
  },
  {
   "cell_type": "code",
   "execution_count": 138,
   "metadata": {},
   "outputs": [],
   "source": []
  },
  {
   "cell_type": "code",
   "execution_count": 139,
   "metadata": {},
   "outputs": [],
   "source": []
  },
  {
   "cell_type": "code",
   "execution_count": 162,
   "metadata": {},
   "outputs": [],
   "source": [
    "\n"
   ]
  },
  {
   "cell_type": "code",
   "execution_count": 160,
   "metadata": {},
   "outputs": [
    {
     "data": {
      "text/html": [
       "<div>\n",
       "<style scoped>\n",
       "    .dataframe tbody tr th:only-of-type {\n",
       "        vertical-align: middle;\n",
       "    }\n",
       "\n",
       "    .dataframe tbody tr th {\n",
       "        vertical-align: top;\n",
       "    }\n",
       "\n",
       "    .dataframe thead th {\n",
       "        text-align: right;\n",
       "    }\n",
       "</style>\n",
       "<table border=\"1\" class=\"dataframe\">\n",
       "  <thead>\n",
       "    <tr style=\"text-align: right;\">\n",
       "      <th></th>\n",
       "      <th>Day of Week</th>\n",
       "      <th>Price</th>\n",
       "    </tr>\n",
       "  </thead>\n",
       "  <tbody>\n",
       "    <tr>\n",
       "      <th>6</th>\n",
       "      <td>Wednesday</td>\n",
       "      <td>213.0</td>\n",
       "    </tr>\n",
       "    <tr>\n",
       "      <th>5</th>\n",
       "      <td>Tuesday</td>\n",
       "      <td>154.0</td>\n",
       "    </tr>\n",
       "    <tr>\n",
       "      <th>2</th>\n",
       "      <td>Saturday</td>\n",
       "      <td>137.0</td>\n",
       "    </tr>\n",
       "    <tr>\n",
       "      <th>0</th>\n",
       "      <td>Friday</td>\n",
       "      <td>98.0</td>\n",
       "    </tr>\n",
       "    <tr>\n",
       "      <th>3</th>\n",
       "      <td>Sunday</td>\n",
       "      <td>97.0</td>\n",
       "    </tr>\n",
       "    <tr>\n",
       "      <th>4</th>\n",
       "      <td>Thursday</td>\n",
       "      <td>63.0</td>\n",
       "    </tr>\n",
       "    <tr>\n",
       "      <th>1</th>\n",
       "      <td>Monday</td>\n",
       "      <td>45.0</td>\n",
       "    </tr>\n",
       "  </tbody>\n",
       "</table>\n",
       "</div>"
      ],
      "text/plain": [
       "  Day of Week  Price\n",
       "6   Wednesday  213.0\n",
       "5     Tuesday  154.0\n",
       "2    Saturday  137.0\n",
       "0      Friday   98.0\n",
       "3      Sunday   97.0\n",
       "4    Thursday   63.0\n",
       "1      Monday   45.0"
      ]
     },
     "execution_count": 160,
     "metadata": {},
     "output_type": "execute_result"
    }
   ],
   "source": [
    "output1"
   ]
  },
  {
   "cell_type": "code",
   "execution_count": 189,
   "metadata": {},
   "outputs": [],
   "source": []
  },
  {
   "cell_type": "code",
   "execution_count": 186,
   "metadata": {},
   "outputs": [],
   "source": []
  },
  {
   "cell_type": "code",
   "execution_count": 190,
   "metadata": {},
   "outputs": [
    {
     "data": {
      "text/html": [
       "<div>\n",
       "<style scoped>\n",
       "    .dataframe tbody tr th:only-of-type {\n",
       "        vertical-align: middle;\n",
       "    }\n",
       "\n",
       "    .dataframe tbody tr th {\n",
       "        vertical-align: top;\n",
       "    }\n",
       "\n",
       "    .dataframe thead th {\n",
       "        text-align: right;\n",
       "    }\n",
       "</style>\n",
       "<table border=\"1\" class=\"dataframe\">\n",
       "  <thead>\n",
       "    <tr style=\"text-align: right;\">\n",
       "      <th></th>\n",
       "      <th>Customer Name</th>\n",
       "      <th>Count Items</th>\n",
       "    </tr>\n",
       "  </thead>\n",
       "  <tbody>\n",
       "    <tr>\n",
       "      <th>28</th>\n",
       "      <td>Mordecai Lehrle</td>\n",
       "      <td>4</td>\n",
       "    </tr>\n",
       "  </tbody>\n",
       "</table>\n",
       "</div>"
      ],
      "text/plain": [
       "      Customer Name  Count Items\n",
       "28  Mordecai Lehrle            4"
      ]
     },
     "execution_count": 190,
     "metadata": {},
     "output_type": "execute_result"
    }
   ],
   "source": [
    "output2"
   ]
  },
  {
   "cell_type": "code",
   "execution_count": null,
   "metadata": {},
   "outputs": [],
   "source": []
  },
  {
   "cell_type": "code",
   "execution_count": 134,
   "metadata": {},
   "outputs": [],
   "source": []
  },
  {
   "cell_type": "code",
   "execution_count": null,
   "metadata": {},
   "outputs": [],
   "source": []
  },
  {
   "cell_type": "code",
   "execution_count": null,
   "metadata": {},
   "outputs": [],
   "source": []
  }
 ],
 "metadata": {
  "kernelspec": {
   "display_name": "Python 3",
   "language": "python",
   "name": "python3"
  },
  "language_info": {
   "codemirror_mode": {
    "name": "ipython",
    "version": 3
   },
   "file_extension": ".py",
   "mimetype": "text/x-python",
   "name": "python",
   "nbconvert_exporter": "python",
   "pygments_lexer": "ipython3",
   "version": "3.7.3"
  }
 },
 "nbformat": 4,
 "nbformat_minor": 2
}
